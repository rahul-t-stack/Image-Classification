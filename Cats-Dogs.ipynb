{
 "cells": [
  {
   "cell_type": "code",
   "execution_count": 9,
   "id": "1c3b8b97",
   "metadata": {
    "scrolled": true
   },
   "outputs": [],
   "source": [
    "import numpy as np\n",
    "import cv2\n",
    "import os \n",
    "import random \n",
    "import matplotlib.pyplot as plt\n",
    "import pickle"
   ]
  },
  {
   "cell_type": "code",
   "execution_count": 10,
   "id": "3761769f",
   "metadata": {},
   "outputs": [],
   "source": [
    "DIRECTORY = r'C:\\Users\\Aayush Rana\\Downloads\\dogscats\\dogscats\\train'\n",
    "CATEGORIES = ['cats','dogs']"
   ]
  },
  {
   "cell_type": "code",
   "execution_count": 11,
   "id": "fe6866af",
   "metadata": {},
   "outputs": [],
   "source": [
    "IMG_SIZE = 100 \n",
    "#if image size is less then the computation will be faster\n",
    "#but the identification whether it is a cat or dog becomes difficult with naked eye\n",
    "\n",
    "data = [] \n",
    "\n",
    "for category in CATEGORIES:\n",
    "    #below line joins the directory with the categories mentioned\n",
    "    folder = os.path.join(DIRECTORY , category)\n",
    "    #fetch the index of cat or dog for the neural network to identify if it is a cat or dog\n",
    "    label = CATEGORIES.index(category)\n",
    "    for img in os.listdir(folder):\n",
    "        #complete image path\n",
    "        img_path = os.path.join(folder ,img)\n",
    "        #read the image into the array\n",
    "        img_arr = cv2.imread(img_path)\n",
    "        #resize the different images having various sizes\n",
    "        img_arr = cv2.resize(img_arr,(IMG_SIZE,IMG_SIZE))\n",
    "        data.append([img_arr,label])\n",
    "    "
   ]
  },
  {
   "cell_type": "code",
   "execution_count": 12,
   "id": "cfcb44c0",
   "metadata": {},
   "outputs": [
    {
     "data": {
      "text/plain": [
       "23000"
      ]
     },
     "execution_count": 12,
     "metadata": {},
     "output_type": "execute_result"
    }
   ],
   "source": [
    "len(data)"
   ]
  },
  {
   "cell_type": "code",
   "execution_count": 13,
   "id": "89e53abf",
   "metadata": {},
   "outputs": [],
   "source": [
    "#shuffle the data \n",
    "random.shuffle(data)"
   ]
  },
  {
   "cell_type": "code",
   "execution_count": 14,
   "id": "48e9f7cd",
   "metadata": {},
   "outputs": [],
   "source": [
    "X = [] \n",
    "Y = [] \n",
    "for features,labels in data:\n",
    "    X.append(features)\n",
    "    Y.append(labels)"
   ]
  },
  {
   "cell_type": "code",
   "execution_count": 15,
   "id": "db8d6252",
   "metadata": {},
   "outputs": [],
   "source": [
    "#convert X and Y into arrays \n",
    "X = np.array(X)\n",
    "Y = np.array(Y)"
   ]
  },
  {
   "cell_type": "code",
   "execution_count": 16,
   "id": "d56baffb",
   "metadata": {},
   "outputs": [],
   "source": [
    "#save the variables X and Y in our Computer \n",
    "pickle.dump(X,open('X.pkl','wb'))\n",
    "pickle.dump(Y,open('Y.pkl','wb'))"
   ]
  },
  {
   "cell_type": "code",
   "execution_count": null,
   "id": "7a0b72ff",
   "metadata": {},
   "outputs": [],
   "source": []
  }
 ],
 "metadata": {
  "kernelspec": {
   "display_name": "Python 3 (ipykernel)",
   "language": "python",
   "name": "python3"
  },
  "language_info": {
   "codemirror_mode": {
    "name": "ipython",
    "version": 3
   },
   "file_extension": ".py",
   "mimetype": "text/x-python",
   "name": "python",
   "nbconvert_exporter": "python",
   "pygments_lexer": "ipython3",
   "version": "3.10.4"
  }
 },
 "nbformat": 4,
 "nbformat_minor": 5
}
